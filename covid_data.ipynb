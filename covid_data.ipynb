{
 "cells": [
  {
   "cell_type": "code",
   "execution_count": 5,
   "id": "f68ff8ad",
   "metadata": {},
   "outputs": [
    {
     "name": "stdout",
     "output_type": "stream",
     "text": [
      "<bound method NDFrame.head of       Row Labels  Max of HP  Sum of HP_lvl18  Sum of AD  Sum of MR  \\\n",
      "0       Aphelios        530             2026         57         30   \n",
      "1           Ashe        570             2049         59         30   \n",
      "2        Caitlyn        510             2091         62         30   \n",
      "3          Corki        518             1997         55         30   \n",
      "4         Draven        605             2135         60         30   \n",
      "5         Ezreal        530             2026         60         30   \n",
      "6           Jhin        585             2166         59         30   \n",
      "7           Jinx        610             2072         57         30   \n",
      "8          Kaisa        600             2096         59         30   \n",
      "9        Kalista        534             2234         69         30   \n",
      "10       Kindred        540             1985         65         30   \n",
      "11        KogMaw        565             2010         61         30   \n",
      "12        Lucian        571             2033         64         30   \n",
      "13  Miss Fortune        570             2151         52         30   \n",
      "14        Samira        530             2026         57         30   \n",
      "15         Senna        520             1795         50         30   \n",
      "16         Sivir        562             2092         63         30   \n",
      "17      Tristana        559             2055         59         30   \n",
      "18        Twitch        612             2074         59         30   \n",
      "19         Varus        530             2077         61         30   \n",
      "20         Vayne        515             2028         60         30   \n",
      "21         Xayah        590             2086         60         30   \n",
      "22   Grand Total        612            45304       1308        660   \n",
      "\n",
      "    Sum of AD+  Sum of AD_lvl18  Sum of AS  Sum of AS+  Sum of AS_lvl18  \\\n",
      "0         3.00            97.80      0.640      0.0210            0.868   \n",
      "1         2.96           109.32      0.658      0.0333            1.030   \n",
      "2         3.80           126.60      0.681      0.0400            1.067   \n",
      "3         2.50            97.50      0.638      0.0230            0.887   \n",
      "4         3.61           121.37      0.679      0.0270            0.991   \n",
      "5         2.50           102.50      0.625      0.0250            0.891   \n",
      "6         4.70           138.90      0.625      0.0300            0.944   \n",
      "7         3.40           114.80      0.625      0.0100            0.731   \n",
      "8         2.00            93.00      0.644      0.0180            0.841   \n",
      "9         3.50           128.50      0.694      0.0400            1.166   \n",
      "10        2.50           107.50      0.625      0.0350            0.997   \n",
      "11        3.11           113.87      0.665      0.0265            0.965   \n",
      "12        2.30           103.10      0.638      0.0330            0.996   \n",
      "13        2.70            97.90      0.656      0.0300            0.991   \n",
      "14        3.00           108.00      0.658      0.0330            1.027   \n",
      "15        0.00            50.00      0.625      0.0400            0.829   \n",
      "16        3.00           114.00      0.625      0.0160            0.795   \n",
      "17        3.30           115.10      0.656      0.0150            0.829   \n",
      "18        3.11           111.87      0.679      0.0338            1.069   \n",
      "19        3.40           118.80      0.658      0.0400            1.105   \n",
      "20        2.36           100.12      0.658      0.0330            1.027   \n",
      "21        3.50           119.50      0.625      0.0390            1.039   \n",
      "22       64.25          2390.05     14.277      0.6416           21.085   \n",
      "\n",
      "    Sum of AR  Sum of range  Sum of range_lvl18  \n",
      "0          28           550                 550  \n",
      "1          26           600                 600  \n",
      "2          28           650                 650  \n",
      "3          28           550                 550  \n",
      "4          29           550                 550  \n",
      "5          22           550                 550  \n",
      "6          24           550                 550  \n",
      "7          26           525                 525  \n",
      "8          28           525                 525  \n",
      "9          21           525                 525  \n",
      "10         29           500                 500  \n",
      "11         24           500                 500  \n",
      "12         28           500                 500  \n",
      "13         28           550                 550  \n",
      "14         26           500                 500  \n",
      "15         28           600                 600  \n",
      "16         26           500                 500  \n",
      "17         26           525                 525  \n",
      "18         27           550                 550  \n",
      "19         27           575                 575  \n",
      "20         23           550                 550  \n",
      "21         25           525                 525  \n",
      "22        577         11950               11950  >\n"
     ]
    }
   ],
   "source": [
    "import pandas as pd\n",
    "\n",
    "data_path = \"C:\\\\Users\\\\tombo\\\\OneDrive\\\\Documents\\\\Python\\\\Data\\\\LOL_champions_stats.csv\"\n",
    "\n",
    "data = pd.read_csv(data_path)\n",
    "print(data.head)"
   ]
  },
  {
   "cell_type": "code",
   "execution_count": null,
   "id": "ae08b741-2b1f-4f6d-9854-024443e7fc95",
   "metadata": {},
   "outputs": [],
   "source": []
  },
  {
   "cell_type": "code",
   "execution_count": null,
   "id": "6bf0861a-7053-44c4-a340-f98751e98bef",
   "metadata": {},
   "outputs": [],
   "source": []
  },
  {
   "cell_type": "code",
   "execution_count": null,
   "id": "9e720fd6-75c0-455a-88f6-72ddb9e5e58a",
   "metadata": {},
   "outputs": [],
   "source": []
  }
 ],
 "metadata": {
  "kernelspec": {
   "display_name": "Python 3 (ipykernel)",
   "language": "python",
   "name": "python3"
  },
  "language_info": {
   "codemirror_mode": {
    "name": "ipython",
    "version": 3
   },
   "file_extension": ".py",
   "mimetype": "text/x-python",
   "name": "python",
   "nbconvert_exporter": "python",
   "pygments_lexer": "ipython3",
   "version": "3.12.4"
  }
 },
 "nbformat": 4,
 "nbformat_minor": 5
}
