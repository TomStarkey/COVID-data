{
 "cells": [
  {
   "cell_type": "code",
   "execution_count": null,
   "id": "f68ff8ad",
   "metadata": {},
   "outputs": [],
   "source": [
    "import pandas as pd\n",
    " \n",
    "data_path = \"Data\\\\LOL_champions_stats.csv\"\n",
    "\n",
    "data = pd.read_csv(data_path)\n",
    "\n",
    "print(data)"
   ]
  },
  {
   "cell_type": "markdown",
   "id": "85783dfc",
   "metadata": {},
   "source": [
    " Data types Index, Series and Dataframe. All are Numpy arrays and the data can be accessed with the .array property"
   ]
  },
  {
   "cell_type": "code",
   "execution_count": null,
   "id": "d9361a92",
   "metadata": {},
   "outputs": [
    {
     "name": "stdout",
     "output_type": "stream",
     "text": [
      "<NumpyExtensionArray>\n",
      "[  0,   1,   2,   3,   4,   5,   6,   7,   8,   9,\n",
      " ...\n",
      " 161, 162, 163, 164, 165, 166, 167, 168, 169, 170]\n",
      "Length: 171, dtype: int64\n"
     ]
    }
   ],
   "source": [
    "data_index = data.index.array\n",
    "print(data_index)\n",
    "\n",
    "data"
   ]
  }
 ],
 "metadata": {
  "kernelspec": {
   "display_name": ".venv",
   "language": "python",
   "name": "python3"
  },
  "language_info": {
   "codemirror_mode": {
    "name": "ipython",
    "version": 3
   },
   "file_extension": ".py",
   "mimetype": "text/x-python",
   "name": "python",
   "nbconvert_exporter": "python",
   "pygments_lexer": "ipython3",
   "version": "3.12.4"
  }
 },
 "nbformat": 4,
 "nbformat_minor": 5
}
